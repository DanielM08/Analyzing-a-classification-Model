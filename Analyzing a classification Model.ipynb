{
 "cells": [
  {
   "cell_type": "markdown",
   "metadata": {},
   "source": [
    "The aim of the study is to do an analysis of the responses from a classification model for the diagnosis of people with breast cancer. The diagnosis can be 4 or 2. It was considered no work that the diagnosis 4 indicates that the person does not have cancer, and 2 that it carries the disease.\n",
    "An analysis is given by the confusion matrix of model responses as well as accuracy rates and as false positive and false negative rates"
   ]
  },
  {
   "cell_type": "code",
   "execution_count": 30,
   "metadata": {
    "collapsed": false
   },
   "outputs": [],
   "source": [
    "import pandas as pd\n",
    "import numpy as np\n",
    "\n",
    "data = pd.read_csv(\"data_study.csv\", encoding = 'utf-8')"
   ]
  },
  {
   "cell_type": "code",
   "execution_count": 31,
   "metadata": {
    "collapsed": false,
    "scrolled": true
   },
   "outputs": [
    {
     "data": {
      "text/html": [
       "<div>\n",
       "<table border=\"1\" class=\"dataframe\">\n",
       "  <thead>\n",
       "    <tr style=\"text-align: right;\">\n",
       "      <th></th>\n",
       "      <th>Density</th>\n",
       "      <th>Size</th>\n",
       "      <th>Shape</th>\n",
       "      <th>Accession</th>\n",
       "      <th>Epithelial</th>\n",
       "      <th>Nucleus</th>\n",
       "      <th>Chromatin</th>\n",
       "      <th>Nucleolus</th>\n",
       "      <th>Mitosis</th>\n",
       "      <th>Diagnosis</th>\n",
       "      <th>Answer Model</th>\n",
       "    </tr>\n",
       "  </thead>\n",
       "  <tbody>\n",
       "    <tr>\n",
       "      <th>0</th>\n",
       "      <td>0,5</td>\n",
       "      <td>0,1</td>\n",
       "      <td>0,1</td>\n",
       "      <td>0,1</td>\n",
       "      <td>0,2</td>\n",
       "      <td>0,1</td>\n",
       "      <td>0,3</td>\n",
       "      <td>0,1</td>\n",
       "      <td>0,1</td>\n",
       "      <td>4</td>\n",
       "      <td>0,4862</td>\n",
       "    </tr>\n",
       "    <tr>\n",
       "      <th>1</th>\n",
       "      <td>0,5</td>\n",
       "      <td>0,4</td>\n",
       "      <td>0,4</td>\n",
       "      <td>0,5</td>\n",
       "      <td>0,7</td>\n",
       "      <td>1</td>\n",
       "      <td>0,3</td>\n",
       "      <td>0,2</td>\n",
       "      <td>0,1</td>\n",
       "      <td>4</td>\n",
       "      <td>0,1982</td>\n",
       "    </tr>\n",
       "    <tr>\n",
       "      <th>2</th>\n",
       "      <td>0,3</td>\n",
       "      <td>0,1</td>\n",
       "      <td>0,1</td>\n",
       "      <td>0,1</td>\n",
       "      <td>0,2</td>\n",
       "      <td>0,2</td>\n",
       "      <td>0,3</td>\n",
       "      <td>0,1</td>\n",
       "      <td>0,1</td>\n",
       "      <td>4</td>\n",
       "      <td>0,6887</td>\n",
       "    </tr>\n",
       "    <tr>\n",
       "      <th>3</th>\n",
       "      <td>0,6</td>\n",
       "      <td>0,8</td>\n",
       "      <td>0,8</td>\n",
       "      <td>0,1</td>\n",
       "      <td>0,3</td>\n",
       "      <td>0,4</td>\n",
       "      <td>0,3</td>\n",
       "      <td>0,7</td>\n",
       "      <td>0,1</td>\n",
       "      <td>4</td>\n",
       "      <td>0,4186</td>\n",
       "    </tr>\n",
       "    <tr>\n",
       "      <th>4</th>\n",
       "      <td>0,4</td>\n",
       "      <td>0,1</td>\n",
       "      <td>0,1</td>\n",
       "      <td>0,3</td>\n",
       "      <td>0,2</td>\n",
       "      <td>0,1</td>\n",
       "      <td>0,3</td>\n",
       "      <td>0,1</td>\n",
       "      <td>0,1</td>\n",
       "      <td>4</td>\n",
       "      <td>0,7259</td>\n",
       "    </tr>\n",
       "  </tbody>\n",
       "</table>\n",
       "</div>"
      ],
      "text/plain": [
       "  Density  Size  Shape Accession Epithelial Nucleus Chromatin Nucleolus  \\\n",
       "0      0,5   0,1   0,1       0,1        0,2     0,1       0,3       0,1   \n",
       "1      0,5   0,4   0,4       0,5        0,7       1       0,3       0,2   \n",
       "2      0,3   0,1   0,1       0,1        0,2     0,2       0,3       0,1   \n",
       "3      0,6   0,8   0,8       0,1        0,3     0,4       0,3       0,7   \n",
       "4      0,4   0,1   0,1       0,3        0,2     0,1       0,3       0,1   \n",
       "\n",
       "  Mitosis  Diagnosis Answer Model  \n",
       "0     0,1          4       0,4862  \n",
       "1     0,1          4       0,1982  \n",
       "2     0,1          4       0,6887  \n",
       "3     0,1          4       0,4186  \n",
       "4     0,1          4       0,7259  "
      ]
     },
     "execution_count": 31,
     "metadata": {},
     "output_type": "execute_result"
    }
   ],
   "source": [
    "data.head()"
   ]
  },
  {
   "cell_type": "code",
   "execution_count": 32,
   "metadata": {
    "collapsed": false
   },
   "outputs": [
    {
     "data": {
      "text/plain": [
       "['Density ',\n",
       " 'Size ',\n",
       " 'Shape',\n",
       " 'Accession',\n",
       " 'Epithelial',\n",
       " 'Nucleus',\n",
       " 'Chromatin',\n",
       " 'Nucleolus',\n",
       " 'Mitosis',\n",
       " 'Diagnosis',\n",
       " 'Answer Model']"
      ]
     },
     "execution_count": 32,
     "metadata": {},
     "output_type": "execute_result"
    }
   ],
   "source": [
    "data.columns.values.tolist()"
   ]
  },
  {
   "cell_type": "code",
   "execution_count": 34,
   "metadata": {
    "collapsed": false
   },
   "outputs": [],
   "source": [
    "target = data['Diagnosis'].tolist()\n",
    "modelResponse = data['Answer Model'].tolist()\n",
    "\n",
    "modelResponse = [r.replace(',','.')  for r in modelResponse] #Correcting the data ex: 4,19 -> 4.19"
   ]
  },
  {
   "cell_type": "code",
   "execution_count": 35,
   "metadata": {
    "collapsed": false
   },
   "outputs": [],
   "source": [
    "#Convert values from list, from string to float, in order to work with it correctly\n",
    "def convertValuesToFloat(listX):\n",
    "    convertedList = []\n",
    "    for n in range(0, len(listX)):\n",
    "        convertedList.append(float(listX[n]))\n",
    "    return convertedList\n",
    "\n",
    "modelResponse = convertValuesToFloat(modelResponse)"
   ]
  },
  {
   "cell_type": "code",
   "execution_count": 36,
   "metadata": {
    "collapsed": false
   },
   "outputs": [],
   "source": [
    "#The threshold is a value that delimits the classification. Below it the data is classifier as True Positive, \n",
    "#and above it like TN.\n",
    "\n",
    "#target is a array containing the diagnosis\n",
    "#mR is the response from a model of classification to that diagnose \n",
    "\n",
    "#The function returns the number of True Positive, True Negative, False Positive and False Negative\n",
    "def ratesInModel(threshold,target,mR):\n",
    "    TP, TN, FP, FN = 0,0,0,0\n",
    "    \n",
    "    for x in range(0, len(mR)):\n",
    "        \n",
    "        if( mR[x] > threshold and target[x] == 4):\n",
    "            TN = TN + 1\n",
    "        elif(mR[x] > threshold and target[x] == 2):\n",
    "            FN = FN + 1\n",
    "        elif(mR[x] < threshold and target[x] == 2):\n",
    "            TP = TP + 1\n",
    "        else:\n",
    "            FP = FP + 1\n",
    "            \n",
    "    return TP, TN, FP, FN\n",
    "\n",
    "#The function returns the Accuracy of method, the rate of false positive and false negative and the confusion matrix \n",
    "def confusion_matrix(threshold, target, mR):\n",
    "    \n",
    "    P = target.count(2)\n",
    "    N = target.count(4)\n",
    "    \n",
    "    rM = ratesInModel(threshold,target, mR)\n",
    "    \n",
    "    TP = rM[0]\n",
    "    FP = rM[2]\n",
    "    FN = rM[3]\n",
    "    TN = rM[1]\n",
    "    \n",
    "    confusionMatrix = [[TP,FP],[FN, TN]]\n",
    "    confusionMatrix = pd.DataFrame(\n",
    "                                    confusionMatrix, \n",
    "                                    index = pd.Index(['P\\'','N\\'']), \n",
    "                                    columns = pd.Index(['P','N'], name = \"Est\\True\")\n",
    "                                    )   \n",
    "    \n",
    "    accuracy = ((TP+TN)/(P+N)) * 100\n",
    "    rateFP = (FP/N) * 100\n",
    "    rateFN = (FN/P) * 100\n",
    "    \n",
    "    return accuracy, rateFP, rateFN, confusionMatrix"
   ]
  },
  {
   "cell_type": "code",
   "execution_count": 37,
   "metadata": {
    "collapsed": true
   },
   "outputs": [],
   "source": [
    "#print some rates and the confusion matrix of analyze\n",
    "def report(result):\n",
    "    accuracy = result[0]\n",
    "    rFP = result[1]\n",
    "    rFN = result[2]\n",
    "    cM = result[3]\n",
    "    #print('numero_decimal = {:.2f}'.format(pi))\n",
    "    print(\"Acuracy: {:.2f}\".format(accuracy),\"%\\n\")\n",
    "    print(\"Rate FP: {:.2f}\".format(rFP),\"%\\n\")\n",
    "    print(\"Rate FN: {:.2f}\".format(rFN),\"%\\n\")\n",
    "    print(\"Confusion Matrix:\\n-------------------\")\n",
    "    print(cM)"
   ]
  },
  {
   "cell_type": "code",
   "execution_count": 38,
   "metadata": {
    "collapsed": false
   },
   "outputs": [
    {
     "name": "stdout",
     "output_type": "stream",
     "text": [
      "Acuracy: 67.35 %\n",
      "\n",
      "Rate FP: 29.73 %\n",
      "\n",
      "Rate FN: 38.08 %\n",
      "\n",
      "Confusion Matrix:\n",
      "-------------------\n",
      "Est\\True    P    N\n",
      "P'        148  132\n",
      "N'         91  312\n"
     ]
    }
   ],
   "source": [
    "#Confusion Matrix for a threshold in 0.3\n",
    "result = confusion_matrix(0.3, target, modelResponse)\n",
    "\n",
    "report(result)"
   ]
  },
  {
   "cell_type": "code",
   "execution_count": 39,
   "metadata": {
    "collapsed": false
   },
   "outputs": [
    {
     "data": {
      "image/png": "[encoded data removed]",
      "text/plain": [
       "<matplotlib.figure.Figure at 0x18971719dd8>"
      ]
     },
     "metadata": {},
     "output_type": "display_data"
    }
   ],
   "source": [
    "#The chart of variation in values of FN and FP in function of threshold's value\n",
    "import matplotlib.pyplot as plt\n",
    "\n",
    "falsePositive = []\n",
    "falseNegative = []\n",
    "t = []\n",
    "th = 0.0\n",
    "for x in range(0,10):\n",
    "    rM = ratesInModel(th, target, modelResponse)\n",
    "    falsePositive.append(rM[2])\n",
    "    falseNegative.append(rM[3])\n",
    "    t.append(th)\n",
    "    th = th + 0.1\n",
    "\n",
    "plt.plot(t, falsePositive, label=\"False positive\")\n",
    "plt.plot( t, falseNegative, label=\"False negative\")\n",
    "plt.legend(bbox_to_anchor=(0., 1.02, 1., .102), loc=3,\n",
    "           ncol=2, mode=\"expand\", borderaxespad=0.)\n",
    "\n",
    "plt.savefig('FPeFN.png')  \n",
    "plt.show()"
   ]
  },
  {
   "cell_type": "code",
   "execution_count": 40,
   "metadata": {
    "collapsed": false
   },
   "outputs": [
    {
     "name": "stdout",
     "output_type": "stream",
     "text": [
      "Acuracy: 67.79 %\n",
      "\n",
      "Rate FP: 49.55 %\n",
      "\n",
      "Rate FN: 0.00 %\n",
      "\n",
      "Confusion Matrix:\n",
      "-------------------\n",
      "Est\\True    P    N\n",
      "P'        239  220\n",
      "N'          0  224\n"
     ]
    }
   ],
   "source": [
    "#Results considering a threshold in 0.5\n",
    "result = confusion_matrix(0.5, target, modelResponse)\n",
    "\n",
    "report(result)"
   ]
  },
  {
   "cell_type": "code",
   "execution_count": null,
   "metadata": {
    "collapsed": true
   },
   "outputs": [],
   "source": []
  }
 ],
 "metadata": {
  "anaconda-cloud": {},
  "kernelspec": {
   "display_name": "Python [conda root]",
   "language": "python",
   "name": "conda-root-py"
  }
 },
 "nbformat": 4,
 "nbformat_minor": 1
}
